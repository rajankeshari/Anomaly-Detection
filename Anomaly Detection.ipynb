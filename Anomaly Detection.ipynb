{
 "cells": [
  {
   "cell_type": "markdown",
   "id": "united-figure",
   "metadata": {},
   "source": [
    "# Anomaly Detection"
   ]
  },
  {
   "cell_type": "code",
   "execution_count": 1,
   "id": "legal-issue",
   "metadata": {},
   "outputs": [],
   "source": [
    "import matplotlib.pyplot as plt\n",
    "import numpy as np\n",
    "import pandas as pd\n",
    "plt.style.use('ggplot')"
   ]
  },
  {
   "cell_type": "code",
   "execution_count": 2,
   "id": "optimum-thumb",
   "metadata": {},
   "outputs": [],
   "source": [
    "plt.rcParams['font.family']='serif'\n",
    "plt.rcParams['font.serif']='Ubuntu'\n",
    "plt.rcParams['font.monospace']='Ubuntu Mono'\n",
    "plt.rcParams['font.size']=12\n",
    "plt.rcParams['axes.labelsize']=11\n",
    "plt.rcParams['axes.labelweight']='bold'\n",
    "plt.rcParams['axes.titlesize']=12\n",
    "plt.rcParams['xtick.labelsize']=9\n",
    "plt.rcParams['ytick.labelsize']=9\n",
    "plt.rcParams['legend.fontsize']=11\n",
    "plt.rcParams['figure.titlesize']=13"
   ]
  },
  {
   "cell_type": "code",
   "execution_count": 3,
   "id": "informational-grave",
   "metadata": {},
   "outputs": [],
   "source": [
    "from numpy import genfromtxt\n",
    "from scipy.stats import multivariate_normal\n",
    "from sklearn.metrics import f1_score"
   ]
  },
  {
   "cell_type": "code",
   "execution_count": 4,
   "id": "nuclear-uganda",
   "metadata": {},
   "outputs": [],
   "source": [
    "def read_dataset(filePath,delimiter=','):\n",
    "    return genfromtxt(filePath,delimiter=delimiter)\n",
    "\n",
    "def feature_normalize(dataset):\n",
    "    mu=npmmean(dataset,axis=0)\n",
    "    sigma=np.std(dataset,axis=0)\n",
    "    return (dataset-mu)/sigma\n",
    "\n",
    "def estimateGuassian(dataset):\n",
    "    mu=np.mean(dataset,axis=0)\n",
    "    sigma=np.cov(dataset.T)\n",
    "    return mu,sigma\n",
    "def multivariateGaussian(dataset,mu,sigma):\n",
    "    p=multivariate_normal(mean=mu,cov=sigma)\n",
    "    return p.pdf(dataset)\n",
    "def selectThresholdByCV(probs,get):\n",
    "    best_epsilon=0\n",
    "    best_f1=0\n",
    "    f=0\n",
    "    stepsize=(max(probs)-min(probs))/1000\n",
    "    epsilons=np.arange(min(probs),max(probs),stepsize)\n",
    "    for epsilon in np.nditer(epsilons):\n",
    "        predictions=(probs<epsilon) #numpy array of True/False\n",
    "        f=f1_score(gt_data,predictions,average='binary')\n",
    "        if f>best_f1:\n",
    "            best_f1=f\n",
    "            best_epsilon=epsilon\n",
    "            \n",
    "    return best_f1,best_epsilon"
   ]
  },
  {
   "cell_type": "code",
   "execution_count": 5,
   "id": "decimal-support",
   "metadata": {},
   "outputs": [
    {
     "data": {
      "text/html": [
       "<div>\n",
       "<style scoped>\n",
       "    .dataframe tbody tr th:only-of-type {\n",
       "        vertical-align: middle;\n",
       "    }\n",
       "\n",
       "    .dataframe tbody tr th {\n",
       "        vertical-align: top;\n",
       "    }\n",
       "\n",
       "    .dataframe thead th {\n",
       "        text-align: right;\n",
       "    }\n",
       "</style>\n",
       "<table border=\"1\" class=\"dataframe\">\n",
       "  <thead>\n",
       "    <tr style=\"text-align: right;\">\n",
       "      <th></th>\n",
       "      <th>13.047</th>\n",
       "      <th>14.741</th>\n",
       "    </tr>\n",
       "  </thead>\n",
       "  <tbody>\n",
       "    <tr>\n",
       "      <th>0</th>\n",
       "      <td>13.409</td>\n",
       "      <td>13.763</td>\n",
       "    </tr>\n",
       "    <tr>\n",
       "      <th>1</th>\n",
       "      <td>14.196</td>\n",
       "      <td>15.853</td>\n",
       "    </tr>\n",
       "    <tr>\n",
       "      <th>2</th>\n",
       "      <td>14.915</td>\n",
       "      <td>16.174</td>\n",
       "    </tr>\n",
       "    <tr>\n",
       "      <th>3</th>\n",
       "      <td>13.577</td>\n",
       "      <td>14.043</td>\n",
       "    </tr>\n",
       "    <tr>\n",
       "      <th>4</th>\n",
       "      <td>13.922</td>\n",
       "      <td>13.406</td>\n",
       "    </tr>\n",
       "  </tbody>\n",
       "</table>\n",
       "</div>"
      ],
      "text/plain": [
       "   13.047  14.741\n",
       "0  13.409  13.763\n",
       "1  14.196  15.853\n",
       "2  14.915  16.174\n",
       "3  13.577  14.043\n",
       "4  13.922  13.406"
      ]
     },
     "execution_count": 5,
     "metadata": {},
     "output_type": "execute_result"
    }
   ],
   "source": [
    "pd.read_csv('./tr_server_data.csv').head()"
   ]
  },
  {
   "cell_type": "code",
   "execution_count": 6,
   "id": "adapted-concept",
   "metadata": {},
   "outputs": [
    {
     "data": {
      "text/html": [
       "<div>\n",
       "<style scoped>\n",
       "    .dataframe tbody tr th:only-of-type {\n",
       "        vertical-align: middle;\n",
       "    }\n",
       "\n",
       "    .dataframe tbody tr th {\n",
       "        vertical-align: top;\n",
       "    }\n",
       "\n",
       "    .dataframe thead th {\n",
       "        text-align: right;\n",
       "    }\n",
       "</style>\n",
       "<table border=\"1\" class=\"dataframe\">\n",
       "  <thead>\n",
       "    <tr style=\"text-align: right;\">\n",
       "      <th></th>\n",
       "      <th>15.79</th>\n",
       "      <th>14.921</th>\n",
       "    </tr>\n",
       "  </thead>\n",
       "  <tbody>\n",
       "    <tr>\n",
       "      <th>0</th>\n",
       "      <td>13.640</td>\n",
       "      <td>15.330</td>\n",
       "    </tr>\n",
       "    <tr>\n",
       "      <th>1</th>\n",
       "      <td>14.866</td>\n",
       "      <td>16.474</td>\n",
       "    </tr>\n",
       "    <tr>\n",
       "      <th>2</th>\n",
       "      <td>13.585</td>\n",
       "      <td>13.989</td>\n",
       "    </tr>\n",
       "    <tr>\n",
       "      <th>3</th>\n",
       "      <td>13.464</td>\n",
       "      <td>15.635</td>\n",
       "    </tr>\n",
       "    <tr>\n",
       "      <th>4</th>\n",
       "      <td>12.949</td>\n",
       "      <td>16.140</td>\n",
       "    </tr>\n",
       "  </tbody>\n",
       "</table>\n",
       "</div>"
      ],
      "text/plain": [
       "    15.79  14.921\n",
       "0  13.640  15.330\n",
       "1  14.866  16.474\n",
       "2  13.585  13.989\n",
       "3  13.464  15.635\n",
       "4  12.949  16.140"
      ]
     },
     "execution_count": 6,
     "metadata": {},
     "output_type": "execute_result"
    }
   ],
   "source": [
    "pd.read_csv('./cv_server_data.csv').head()"
   ]
  },
  {
   "cell_type": "code",
   "execution_count": 7,
   "id": "permanent-onion",
   "metadata": {},
   "outputs": [
    {
     "data": {
      "text/html": [
       "<div>\n",
       "<style scoped>\n",
       "    .dataframe tbody tr th:only-of-type {\n",
       "        vertical-align: middle;\n",
       "    }\n",
       "\n",
       "    .dataframe tbody tr th {\n",
       "        vertical-align: top;\n",
       "    }\n",
       "\n",
       "    .dataframe thead th {\n",
       "        text-align: right;\n",
       "    }\n",
       "</style>\n",
       "<table border=\"1\" class=\"dataframe\">\n",
       "  <thead>\n",
       "    <tr style=\"text-align: right;\">\n",
       "      <th></th>\n",
       "      <th>0</th>\n",
       "    </tr>\n",
       "  </thead>\n",
       "  <tbody>\n",
       "    <tr>\n",
       "      <th>0</th>\n",
       "      <td>0</td>\n",
       "    </tr>\n",
       "    <tr>\n",
       "      <th>1</th>\n",
       "      <td>0</td>\n",
       "    </tr>\n",
       "    <tr>\n",
       "      <th>2</th>\n",
       "      <td>0</td>\n",
       "    </tr>\n",
       "    <tr>\n",
       "      <th>3</th>\n",
       "      <td>0</td>\n",
       "    </tr>\n",
       "    <tr>\n",
       "      <th>4</th>\n",
       "      <td>0</td>\n",
       "    </tr>\n",
       "  </tbody>\n",
       "</table>\n",
       "</div>"
      ],
      "text/plain": [
       "   0\n",
       "0  0\n",
       "1  0\n",
       "2  0\n",
       "3  0\n",
       "4  0"
      ]
     },
     "execution_count": 7,
     "metadata": {},
     "output_type": "execute_result"
    }
   ],
   "source": [
    "pd.read_csv('./gt_server_data.csv').head()\n",
    "# entires are 1 and rest are 0"
   ]
  },
  {
   "cell_type": "code",
   "execution_count": 8,
   "id": "positive-glasgow",
   "metadata": {},
   "outputs": [
    {
     "name": "stdout",
     "output_type": "stream",
     "text": [
      "[[13.047 14.741]\n",
      " [13.409 13.763]\n",
      " [14.196 15.853]\n",
      " [14.915 16.174]\n",
      " [13.577 14.043]]\n",
      "(307, 2)\n"
     ]
    }
   ],
   "source": [
    "tr_data=read_dataset('tr_server_data.csv')\n",
    "print(tr_data[0:5])\n",
    "print(tr_data.shape)"
   ]
  },
  {
   "cell_type": "code",
   "execution_count": 9,
   "id": "fifty-extraction",
   "metadata": {},
   "outputs": [
    {
     "name": "stdout",
     "output_type": "stream",
     "text": [
      "[[15.79  14.921]\n",
      " [13.64  15.33 ]\n",
      " [14.866 16.474]\n",
      " [13.585 13.989]\n",
      " [13.464 15.635]]\n",
      "(307, 2)\n"
     ]
    }
   ],
   "source": [
    "cv_data=read_dataset('cv_server_data.csv')\n",
    "print(cv_data[0:5])\n",
    "print(cv_data.shape)"
   ]
  },
  {
   "cell_type": "code",
   "execution_count": 10,
   "id": "warming-buying",
   "metadata": {},
   "outputs": [
    {
     "name": "stdout",
     "output_type": "stream",
     "text": [
      "[0. 0. 0. 0. 0.]\n",
      "(307,)\n"
     ]
    }
   ],
   "source": [
    "gt_data=read_dataset('gt_server_data.csv')\n",
    "print(gt_data[0:5])\n",
    "print(gt_data.shape)"
   ]
  },
  {
   "cell_type": "code",
   "execution_count": 11,
   "id": "polar-example",
   "metadata": {},
   "outputs": [],
   "source": [
    "n_training_samples=tr_data.shape[0]\n",
    "n_dim=tr_data.shape[1]"
   ]
  },
  {
   "cell_type": "code",
   "execution_count": 12,
   "id": "comparable-addition",
   "metadata": {},
   "outputs": [
    {
     "name": "stdout",
     "output_type": "stream",
     "text": [
      "Number of datapoints i training set:  307\n",
      "Number of dimensions/features:  2\n"
     ]
    }
   ],
   "source": [
    "print('Number of datapoints i training set: ',n_training_samples)\n",
    "print('Number of dimensions/features: ',n_dim)"
   ]
  },
  {
   "cell_type": "code",
   "execution_count": 13,
   "id": "removed-thousand",
   "metadata": {},
   "outputs": [
    {
     "name": "stdout",
     "output_type": "stream",
     "text": [
      "[[13.409 13.763]\n",
      " [14.196 15.853]\n",
      " [14.915 16.174]\n",
      " [13.577 14.043]]\n"
     ]
    }
   ],
   "source": [
    "print(tr_data[1:5])"
   ]
  },
  {
   "cell_type": "code",
   "execution_count": 14,
   "id": "electric-polymer",
   "metadata": {},
   "outputs": [
    {
     "name": "stderr",
     "output_type": "stream",
     "text": [
      "findfont: Font family ['serif'] not found. Falling back to DejaVu Sans.\n",
      "findfont: Font family ['serif'] not found. Falling back to DejaVu Sans.\n"
     ]
    },
    {
     "data": {
      "image/png": "[encoded data removed]",
      "text/plain": [
       "<Figure size 432x288 with 1 Axes>"
      ]
     },
     "metadata": {},
     "output_type": "display_data"
    }
   ],
   "source": [
    "plt.xlabel('Latency (ms)')\n",
    "plt.ylabel('Throughput (mb/s)')\n",
    "plt.plot(tr_data[:,0],tr_data[:,1],'bx')\n",
    "plt.show()"
   ]
  },
  {
   "cell_type": "markdown",
   "id": "civilian-strap",
   "metadata": {},
   "source": [
    "### Anomaly Detection Using MultiVariateGaussian"
   ]
  },
  {
   "cell_type": "code",
   "execution_count": 15,
   "id": "baking-convertible",
   "metadata": {},
   "outputs": [
    {
     "name": "stdout",
     "output_type": "stream",
     "text": [
      "[14.11225277 14.99767459]\n",
      "[[ 1.83866684 -0.22783493]\n",
      " [-0.22783493  1.71530264]]\n"
     ]
    }
   ],
   "source": [
    "mu,sigma=estimateGuassian(tr_data)\n",
    "print(mu)\n",
    "print(sigma)"
   ]
  },
  {
   "cell_type": "code",
   "execution_count": 16,
   "id": "musical-quarterly",
   "metadata": {},
   "outputs": [
    {
     "data": {
      "text/plain": [
       "array([0.06346609, 0.04706598, 0.07222892, 0.04681638])"
      ]
     },
     "execution_count": 16,
     "metadata": {},
     "output_type": "execute_result"
    }
   ],
   "source": [
    "p=multivariateGaussian(tr_data,mu,sigma)\n",
    "p[0:4]"
   ]
  },
  {
   "cell_type": "code",
   "execution_count": 17,
   "id": "loving-feature",
   "metadata": {},
   "outputs": [
    {
     "name": "stdout",
     "output_type": "stream",
     "text": [
      "0.8750000000000001 9.036201327981212e-05\n"
     ]
    }
   ],
   "source": [
    "#Finding the optimal epsilon using cross validation\n",
    "p_cv=multivariateGaussian(cv_data,mu,sigma)\n",
    "fscore,ep=selectThresholdByCV(p_cv,gt_data)\n",
    "print(fscore,ep)"
   ]
  },
  {
   "cell_type": "code",
   "execution_count": 18,
   "id": "commercial-indie",
   "metadata": {},
   "outputs": [
    {
     "data": {
      "text/plain": [
       "array([[300, 301, 303, 304, 305, 306]], dtype=int64)"
      ]
     },
     "execution_count": 18,
     "metadata": {},
     "output_type": "execute_result"
    }
   ],
   "source": [
    "#Selecting outlier datapoints\n",
    "outliers=np.asarray(np.where(p<ep))\n",
    "outliers"
   ]
  },
  {
   "cell_type": "code",
   "execution_count": 19,
   "id": "norman-sleeping",
   "metadata": {},
   "outputs": [
    {
     "data": {
      "image/png": "[encoded data removed]",
      "text/plain": [
       "<Figure size 432x288 with 1 Axes>"
      ]
     },
     "metadata": {},
     "output_type": "display_data"
    }
   ],
   "source": [
    "plt.figure()\n",
    "plt.xlabel('Latency (ms)')\n",
    "plt.ylabel('Throughput (mb/s)')\n",
    "plt.plot(tr_data[:,0],tr_data[:,1],'bx')\n",
    "plt.plot(tr_data[outliers,0],tr_data[outliers,1],'ro')\n",
    "plt.show()"
   ]
  },
  {
   "cell_type": "markdown",
   "id": "super-probability",
   "metadata": {},
   "source": [
    "### Anomaly Detection Using One-Class SVM"
   ]
  },
  {
   "cell_type": "code",
   "execution_count": 20,
   "id": "attractive-hobby",
   "metadata": {},
   "outputs": [],
   "source": [
    "from sklearn import svm"
   ]
  },
  {
   "cell_type": "code",
   "execution_count": 21,
   "id": "missing-forum",
   "metadata": {},
   "outputs": [],
   "source": [
    "tr_data=read_dataset('tr_server_data.csv')"
   ]
  },
  {
   "cell_type": "code",
   "execution_count": 22,
   "id": "packed-belfast",
   "metadata": {},
   "outputs": [
    {
     "data": {
      "text/plain": [
       "OneClassSVM(gamma=0.1, nu=0.05)"
      ]
     },
     "execution_count": 22,
     "metadata": {},
     "output_type": "execute_result"
    }
   ],
   "source": [
    "clf=svm.OneClassSVM(nu=0.05,kernel='rbf',gamma=0.1)\n",
    "clf.fit(tr_data)"
   ]
  },
  {
   "cell_type": "code",
   "execution_count": 23,
   "id": "documentary-corpus",
   "metadata": {},
   "outputs": [
    {
     "name": "stdout",
     "output_type": "stream",
     "text": [
      "291\n",
      "16\n"
     ]
    }
   ],
   "source": [
    "pred=clf.predict(tr_data)\n",
    "print(np.sum(pred==1)) #number of inliers\n",
    "print(np.sum(pred==-1)) #number of outliers"
   ]
  },
  {
   "cell_type": "code",
   "execution_count": 24,
   "id": "minimal-survival",
   "metadata": {},
   "outputs": [],
   "source": [
    "good=tr_data[pred==1]\n",
    "bad=tr_data[pred==-1]"
   ]
  },
  {
   "cell_type": "code",
   "execution_count": 25,
   "id": "sexual-benchmark",
   "metadata": {},
   "outputs": [
    {
     "data": {
      "image/png": "[encoded data removed]",
      "text/plain": [
       "<Figure size 432x288 with 1 Axes>"
      ]
     },
     "metadata": {},
     "output_type": "display_data"
    }
   ],
   "source": [
    "plt.figure()\n",
    "plt.plot(good[:,0],good[:,1],'bx')\n",
    "plt.plot(bad[:,0],bad[:,1],'ro')\n",
    "plt.xlabel('Latency (ms)')\n",
    "plt.ylabel('Throughput (mb/s)')\n",
    "plt.show()"
   ]
  }
 ],
 "metadata": {
  "kernelspec": {
   "display_name": "Python 3",
   "language": "python",
   "name": "python3"
  },
  "language_info": {
   "codemirror_mode": {
    "name": "ipython",
    "version": 3
   },
   "file_extension": ".py",
   "mimetype": "text/x-python",
   "name": "python",
   "nbconvert_exporter": "python",
   "pygments_lexer": "ipython3",
   "version": "3.9.2"
  }
 },
 "nbformat": 4,
 "nbformat_minor": 5
}
